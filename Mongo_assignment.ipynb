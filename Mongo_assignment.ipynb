{
 "cells": [
  {
   "cell_type": "markdown",
   "id": "45e6f3e6",
   "metadata": {},
   "source": [
    "## Theoretical Questions and Answers\n",
    "\n",
    "1. What are the key differences between SQL and NoSQL databases?- SQL databases are relational with fixed schema, support complex joins, and use structured query language. NoSQL databases are non-relational, schema-flexible, and use documents, key-value, graph, or columnar models which scale horizontally and handle unstructured data better.\n",
    "\n",
    "2. What makes MongoDB a good choice for modern applications?\n",
    "- MongoDB offers schema flexibility, high scalability, native JSON-like document format (BSON), built-in replication and sharding for high availability and big data, making it ideal for dynamic modern applications.\n",
    "\n",
    "3. Explain the concept of collections in MongoDB.\n",
    "- Collections are groups of MongoDB documents and are equivalent to tables in relational databases. They store related JSON-like documents without a fixed schema.\n",
    "\n",
    "4. How does MongoDB ensure high availability using replication?\n",
    "- MongoDB uses replica sets which consist of primary and secondary nodes. Data is asynchronously replicated from primary to secondaries ensuring data redundancy and automatic failover.\n",
    "\n",
    "5. What are the main benefits of MongoDB Atlas?\n",
    "- Atlas is MongoDB’s fully managed cloud service, providing automated backups, monitoring, scaling, and security, reducing operational overhead.\n",
    "\n",
    "6. What is the role of indexes in MongoDB, and how do they improve performance?\n",
    "- Indexes allow faster query execution by avoiding full collection scans, similar to indexes in SQL databases, optimized for various query types.\n",
    "\n",
    "7. Describe the stages of the MongoDB aggregation pipeline.\n",
    "- Stages include $match (filter), $group (aggregate), $sort, $project (reshape), $lookup (join), etc., chaining operations to transform and summarize data.\n",
    "\n",
    "8. What is sharding in MongoDB? How does it differ from replication?\n",
    "- Sharding horizontally partitions data across multiple servers for scalability. Replication duplicates data sets for redundancy and availability.\n",
    "\n",
    "9. What is PyMongo, and why is it used?\n",
    "- PyMongo is the Python driver for MongoDB, allowing you to connect to and interact with MongoDB databases from Python code.\n",
    "\n",
    "10. What are the ACID properties in the context of MongoDB transactions?\n",
    "- MongoDB supports multi-document transactions with ACID properties ensuring atomicity, consistency, isolation, and durability for operations across multiple documents or collections.\n",
    "\n",
    "11. What is the purpose of MongoDB’s explain() function?\n",
    "- It provides detailed information on how queries are executed, including index usage and query plan, helping optimize performance.\n",
    "\n",
    "12. How does MongoDB handle schema validation?\n",
    "- MongoDB supports optional schema validation via JSON Schema, allowing enforcement of document structure at collection level.\n",
    "\n",
    "13. What is the difference between a primary and a secondary node in a replica set?\n",
    "- The primary node receives all write operations; secondaries replicate data from the primary and can serve read queries depending on configuration.\n",
    "\n",
    "14. What security mechanisms does MongoDB provide for data protection?\n",
    "- Authentication, authorization (role-based access control), encryption at rest and in transit, auditing, and network segmentation.\n",
    "\n",
    "15. Explain the concept of embedded documents and when they should be used.\n",
    "- Embedded documents store related data within a parent document, reducing the need for joins and improving read performance for related data.\n",
    "\n",
    "16. What is the purpose of MongoDB’s $lookup stage in aggregation?\n",
    "- $lookup performs left outer joins between collections in aggregation pipelines, combining related data.\n",
    "\n",
    "17. What are some common use cases for MongoDB?\n",
    "- Content management, real-time analytics, IoT applications, mobile apps, catalogues, and any use case needing schema flexibility.\n",
    "\n",
    "18. What are the advantages of using MongoDB for horizontal scaling?\n",
    "- Easy sharding across clusters, automatic balancing of data, and high availability make scaling seamless.\n",
    "\n",
    "19. How do MongoDB transactions differ from SQL transactions?\n",
    "- MongoDB added support for multi-document ACID transactions recently; traditional SQL databases have long supported these; MongoDB transactions work within replica sets and sharded clusters with limitations.\n",
    "\n",
    "20. What are the main differences between capped collections and regular collections?\n",
    "- Capped collections have fixed size, automatically overwrite oldest entries, and provide high-performance insertion; regular collections grow dynamically.\n",
    "\n",
    "21. What is the purpose of the $match stage in MongoDB’s aggregation pipeline?\n",
    "- Filters documents to pass only those matching specified conditions to next stage.\n",
    "\n",
    "22. How can you secure access to a MongoDB database?\n",
    "- Enforce authentication, use encryption, restrict IP access, implement role-based permissions.\n",
    "\n",
    "23. What is MongoDB’s WiredTiger storage engine, and why is it important?\n",
    "- Default storage engine since MongoDB 3.2. Supports document-level locking, compression, and multiversion concurrency control for performance and efficiency.\n",
    "\n"
   ]
  },
  {
   "cell_type": "code",
   "execution_count": null,
   "id": "9dd162a3",
   "metadata": {},
   "outputs": [],
   "source": [
    "# 1. Write a Python script to load the Superstore dataset from a CSV file into MongoDB\n",
    "\n",
    "import pymongo\n",
    "import pandas as pd\n",
    "\n",
    "client = pymongo.MongoClient(\"mongodb://127.0.0.1:27017/?directConnection=true&serverSelectionTimeoutMS=2000&appName=mongosh+2.5.6\")\n",
    "db = client[\"superstore_db\"]\n",
    "orders_col = db[\"Orders\"]\n",
    "\n",
    "# FIX: use correct encoding\n",
    "df = pd.read_csv(\"Superstore.csv\")  \n",
    "\n",
    "data_dict = df.to_dict(\"records\")\n",
    "orders_col.insert_many(data_dict)\n",
    "print(f\"Inserted {len(data_dict)} documents into Orders collection.\")\n"
   ]
  },
  {
   "cell_type": "code",
   "execution_count": null,
   "id": "0a91bcc8",
   "metadata": {},
   "outputs": [],
   "source": [
    "# 2. Retrieve and print all documents from the Orders collection.\n",
    "for doc in orders_col.find():\n",
    "    print(doc)\n"
   ]
  },
  {
   "cell_type": "code",
   "execution_count": null,
   "id": "906dd97c",
   "metadata": {},
   "outputs": [],
   "source": [
    "# 3. Count and display the total number of documents in the Orders collection.\n",
    "print(\"Total documents:\", orders_col.count_documents({}))\n"
   ]
  },
  {
   "cell_type": "code",
   "execution_count": null,
   "id": "5ea299b7",
   "metadata": {},
   "outputs": [],
   "source": [
    "# 4. Write a query to fetch all orders from the \"West\" region.\n",
    "for doc in orders_col.find({\"Region\": \"West\"}):\n",
    "    print(doc)\n"
   ]
  },
  {
   "cell_type": "code",
   "execution_count": null,
   "id": "b52eb4ca",
   "metadata": {},
   "outputs": [],
   "source": [
    "# 5. Write a query to find orders where Sales is greater than 500.\n",
    "for doc in orders_col.find({\"Sales\": {\"$gt\": 500}}):\n",
    "    print(doc)\n"
   ]
  },
  {
   "cell_type": "code",
   "execution_count": null,
   "id": "7290c998",
   "metadata": {},
   "outputs": [],
   "source": [
    "# 6. Fetch the top 3 orders with the highest Profit.\n",
    "for doc in orders_col.find().sort(\"Profit\", -1).limit(3):\n",
    "    print(doc)\n"
   ]
  },
  {
   "cell_type": "code",
   "execution_count": null,
   "id": "3446db82",
   "metadata": {},
   "outputs": [],
   "source": [
    "# 7. Update all orders with Ship Mode as \"First Class\" to \"Premium Class\".\n",
    "orders_col.update_many(\n",
    "    {\"Ship Mode\": \"First Class\"},\n",
    "    {\"$set\": {\"Ship Mode\": \"Premium Class\"}}\n",
    ")\n"
   ]
  },
  {
   "cell_type": "code",
   "execution_count": null,
   "id": "60a4e3fa",
   "metadata": {},
   "outputs": [],
   "source": [
    "# 8. Delete all orders where Sales is less than 50.\n",
    "orders_col.delete_many({\"Sales\": {\"$lt\": 50}})\n"
   ]
  },
  {
   "cell_type": "code",
   "execution_count": null,
   "id": "3e75498d",
   "metadata": {},
   "outputs": [],
   "source": [
    "# 9. Use aggregation to group orders by Region and calculate total sales per region.\n",
    "pipeline = [\n",
    "    {\"$group\": {\"_id\": \"$Region\", \"TotalSales\": {\"$sum\": \"$Sales\"}}}\n",
    "]\n",
    "for doc in orders_col.aggregate(pipeline):\n",
    "    print(doc)\n"
   ]
  },
  {
   "cell_type": "code",
   "execution_count": null,
   "id": "03e42832",
   "metadata": {},
   "outputs": [],
   "source": [
    "# 10. Fetch all distinct values for Ship Mode from the collection.\n",
    "print(orders_col.distinct(\"Ship Mode\"))\n"
   ]
  },
  {
   "cell_type": "code",
   "execution_count": null,
   "id": "9bff4030",
   "metadata": {},
   "outputs": [],
   "source": [
    "# 11. Count the number of orders for each category.\n",
    "pipeline = [\n",
    "    {\"$group\": {\"_id\": \"$Category\", \"Count\": {\"$sum\": 1}}}\n",
    "]\n",
    "for doc in orders_col.aggregate(pipeline):\n",
    "    print(doc)\n"
   ]
  },
  {
   "cell_type": "code",
   "execution_count": null,
   "id": "a4cab307",
   "metadata": {},
   "outputs": [],
   "source": []
  }
 ],
 "metadata": {
  "kernelspec": {
   "display_name": "Python 3",
   "language": "python",
   "name": "python3"
  },
  "language_info": {
   "codemirror_mode": {
    "name": "ipython",
    "version": 3
   },
   "file_extension": ".py",
   "mimetype": "text/x-python",
   "name": "python",
   "nbconvert_exporter": "python",
   "pygments_lexer": "ipython3",
   "version": "3.13.2"
  }
 },
 "nbformat": 4,
 "nbformat_minor": 5
}
